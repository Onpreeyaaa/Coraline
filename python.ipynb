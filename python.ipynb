{
 "cells": [
  {
   "cell_type": "code",
   "execution_count": 1,
   "metadata": {},
   "outputs": [
    {
     "name": "stdout",
     "output_type": "stream",
     "text": [
      "   first_name   last_name actual_gender predicted_gender  probability   \n",
      "0        Maël     Rolland          male             male         1.00  \\\n",
      "1        Lola      Berger        female           female         0.98   \n",
      "2      Jeremy   Macdonald          male             male         1.00   \n",
      "3     Anthony       Denys          male             male         1.00   \n",
      "4      Gökhan     Ilıcalı          male             male         1.00   \n",
      "5     Anthony       Olson          male             male         1.00   \n",
      "6       Laura       Smith        female           female         1.00   \n",
      "7      Marcus    Andersen          male             male         1.00   \n",
      "8   Alexander     Lemoine          male             male         1.00   \n",
      "9      Jimmie     Gilbert          male             male         0.95   \n",
      "10     Manuel     Fuentes          male             male         1.00   \n",
      "11     Pavati  Chiplunkar        female             None         0.00   \n",
      "12     Philip    Bergeron          male             male         1.00   \n",
      "13      Megan     Hawkins        female           female         1.00   \n",
      "14     Albana     Martins        female           female         0.98   \n",
      "15       Ryan     Edwards          male             male         1.00   \n",
      "16       Todd      Nguyen          male             male         1.00   \n",
      "17        Mar       Marín        female           female         0.82   \n",
      "18      پوریا         صدر          male             None         0.00   \n",
      "19   Samantha     Gilbert        female           female         1.00   \n",
      "\n",
      "    same_gender  \n",
      "0          True  \n",
      "1          True  \n",
      "2          True  \n",
      "3          True  \n",
      "4          True  \n",
      "5          True  \n",
      "6          True  \n",
      "7          True  \n",
      "8          True  \n",
      "9          True  \n",
      "10         True  \n",
      "11        False  \n",
      "12         True  \n",
      "13         True  \n",
      "14         True  \n",
      "15         True  \n",
      "16         True  \n",
      "17         True  \n",
      "18        False  \n",
      "19         True  \n"
     ]
    }
   ],
   "source": [
    "import requests\n",
    "import pandas as pd\n",
    "\n",
    "# สุ่มเลือกผู้ใช้งาน 20 คน\n",
    "users_response = requests.get(\"https://randomuser.me/api/?results=20\")\n",
    "users_data = users_response.json()[\"results\"]\n",
    "\n",
    "# เก็บข้อมูลผู้ใช้งาน\n",
    "user_list = []\n",
    "for user in users_data:\n",
    "    first_name = user[\"name\"][\"first\"]\n",
    "    last_name = user[\"name\"][\"last\"]\n",
    "    gender = user[\"gender\"]\n",
    "    user_list.append({\"first_name\": first_name, \"last_name\": last_name, \"gender\": gender})\n",
    "\n",
    "# เรียก API ทำนายเพศ\n",
    "gender_predictions = []\n",
    "for user in user_list:\n",
    "    name = user[\"first_name\"]\n",
    "    gender_predict_response = requests.get(f\"https://api.genderize.io/?name={name}\")\n",
    "    gender_predict_data = gender_predict_response.json()\n",
    "    predicted_gender = gender_predict_data[\"gender\"]\n",
    "    probability = gender_predict_data[\"probability\"]\n",
    "    gender_predictions.append({\"first_name\": user[\"first_name\"], \"last_name\": user[\"last_name\"],\n",
    "                               \"actual_gender\": user[\"gender\"], \"predicted_gender\": predicted_gender,\n",
    "                               \"probability\": probability})\n",
    "\n",
    "# ตรวจสอบความตรงกันของเพศ\n",
    "df = pd.DataFrame(gender_predictions)\n",
    "df[\"same_gender\"] = df[\"actual_gender\"] == df[\"predicted_gender\"]\n",
    "\n",
    "# แสดงผลทาง DataFrame ในรูปแบบที่ต้องการ\n",
    "print(df[[\"first_name\", \"last_name\", \"actual_gender\", \"predicted_gender\", \"probability\", \"same_gender\"]])"
   ]
  }
 ],
 "metadata": {
  "kernelspec": {
   "display_name": "Python 3",
   "language": "python",
   "name": "python3"
  },
  "language_info": {
   "codemirror_mode": {
    "name": "ipython",
    "version": 3
   },
   "file_extension": ".py",
   "mimetype": "text/x-python",
   "name": "python",
   "nbconvert_exporter": "python",
   "pygments_lexer": "ipython3",
   "version": "3.10.11"
  }
 },
 "nbformat": 4,
 "nbformat_minor": 2
}
