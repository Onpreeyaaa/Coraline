{
 "cells": [
  {
   "cell_type": "markdown",
   "metadata": {},
   "source": [
    "<h3>SQL Script<h3>"
   ]
  },
  {
   "cell_type": "markdown",
   "metadata": {},
   "source": [
    "<h3>ข้อ 1</h3>\n",
    "<label>แสดงข้อมูล ผู้กำกับ (director) ที่ได้รับ ความนิยม (rating) สูงที่สุดของแต่ละประเภทหนัง\n",
    "(movie_genres)\n",
    "</label>"
   ]
  },
  {
   "cell_type": "code",
   "execution_count": null,
   "metadata": {
    "vscode": {
     "languageId": "sql"
    }
   },
   "outputs": [],
   "source": [
    "SELECT dir_fname, dir_lname, gen_title\n",
    "FROM Movie\n",
    "JOIN movie_direction USING(mov_id)\n",
    "JOIN director USING(dir_id)\n",
    "NATURAL JOIN rating\n",
    "NATURAL JOIN movie_genres\n",
    "NATURAL JOIN genres\n",
    "GROUP BY dir_fname, dir_lname, gen_title\n",
    "HAVING MAX(rev_stars) = MAX(rev_stars);"
   ]
  },
  {
   "cell_type": "markdown",
   "metadata": {},
   "source": [
    "<h3>ข้อ 2</h3>\n",
    "<label>แสดงข้อมูล นักแสดงแต่ละคนแสดงหนังแต่ละเรื่องรวมเป็นระยะเวลาเท่าใด โดยคิดเฉพาะหนังที่\n",
    "คะแนนความนิยมไม่ใช่ null\n",
    "<label>"
   ]
  },
  {
   "cell_type": "code",
   "execution_count": null,
   "metadata": {
    "vscode": {
     "languageId": "sql"
    }
   },
   "outputs": [],
   "source": [
    "SELECT actor.act_fname, actor.act_lname,actor.act_gender,SUM(movie.mov_time) AS total_time\n",
    "FROM movie\n",
    "JOIN movie_cast USING(mov_id)\n",
    "JOIN actor USING(act_id)\n",
    "LEFT JOIN rating USING(mov_id)\n",
    "WHERE rating.rev_stars IS NOT NULL\n",
    "GROUP BY actor.act_fname, actor.act_lname,actor.act_gender;"
   ]
  },
  {
   "cell_type": "markdown",
   "metadata": {},
   "source": [
    "<h3>ข้อ 3</h3>\n",
    "<label>แสดงข้อมูล จำนวนครั้งที่ ผู้กำกับ (director) และนักแสดงหญิง (actor) เคยร่วมงานกัน โดยแสดง\n",
    "เฉพาะ 5 ลำดับแรกของนักแสดงหญิงที่ร่วมงานกับผู้กำกับคนนั้นบ่อยที่สุด\n",
    "\n",
    "<label>"
   ]
  },
  {
   "cell_type": "code",
   "execution_count": null,
   "metadata": {
    "vscode": {
     "languageId": "sql"
    }
   },
   "outputs": [],
   "source": [
    "SELECT director.dir_fname,director.dir_lname,actor.act_fname,actor.act_lname,COUNT(*) AS collaboration_count\n",
    "FROM movie\n",
    "JOIN movie_cast ON movie.mov_id = movie_cast.mov_id\n",
    "JOIN actor ON movie_cast.act_id = actor.act_id\n",
    "JOIN movie_direction ON movie.mov_id = movie_direction.mov_id\n",
    "JOIN director ON movie_direction.dir_id = director.dir_id\n",
    "WHERE actor.act_gender = 'F'\n",
    "GROUP BY director.dir_id, actor.act_id\n",
    "ORDER BY collaboration_count DESC\n",
    "LIMIT 5;"
   ]
  },
  {
   "cell_type": "markdown",
   "metadata": {},
   "source": [
    "<h3>ข้อ 4</h3>\n",
    "<label> เปลี่ยนประเภทข้อมูล gen_title จาก char (20) เป็น integer โดยเรียงตามตัวอักษร เช่น action\n",
    "แปลงเป็น 1, animation แปลงเป็น 2, biography แปลงเป็น 3, …\n",
    "<label>"
   ]
  },
  {
   "cell_type": "code",
   "execution_count": null,
   "metadata": {
    "vscode": {
     "languageId": "sql"
    }
   },
   "outputs": [],
   "source": [
    "ALTER TABLE genres\n",
    "ADD COLUMN gen_id_temp INTEGER;\n",
    "\n",
    "UPDATE genres\n",
    "SET gen_id_temp = ROW_NUMBER() OVER (ORDER BY gen_title);\n",
    "\n",
    "ALTER TABLE genres\n",
    "DROP COLUMN gen_id;\n",
    "\n",
    "ALTER TABLE genres\n",
    "RENAME COLUMN gen_id_temp TO gen_id;"
   ]
  },
  {
   "cell_type": "markdown",
   "metadata": {},
   "source": [
    "<h3>ข้อ 5</h3>\n",
    "<label> แก้ไขเพศของนักแสดง ที่ชื่อขึ้นต้นด้วยคำว่า Em, Char หรือ ชื่อลงท้ายด้วยคำว่า dy, sy, lia เป็น\n",
    "เพศหญิง โดยไม่สนใจตัวเล็กตัวใหญ่\n",
    "<label>"
   ]
  },
  {
   "cell_type": "code",
   "execution_count": null,
   "metadata": {
    "vscode": {
     "languageId": "sql"
    }
   },
   "outputs": [],
   "source": [
    "UPDATE actor\n",
    "SET act_gender = 'F'\n",
    "WHERE \n",
    "  UPPER(act_fname) LIKE 'EM%'\n",
    "  OR UPPER(act_fname) LIKE 'CHAR%'\n",
    "  OR UPPER(act_lname) LIKE '%DY'\n",
    "  OR UPPER(act_lname) LIKE '%SY'\n",
    "  OR UPPER(act_lname) LIKE '%LIA';"
   ]
  }
 ],
 "metadata": {
  "kernelspec": {
   "display_name": "Python 3",
   "language": "python",
   "name": "python3"
  },
  "language_info": {
   "codemirror_mode": {
    "name": "ipython",
    "version": 3
   },
   "file_extension": ".py",
   "mimetype": "text/x-python",
   "name": "python",
   "nbconvert_exporter": "python",
   "pygments_lexer": "ipython3",
   "version": "3.10.11"
  }
 },
 "nbformat": 4,
 "nbformat_minor": 2
}
