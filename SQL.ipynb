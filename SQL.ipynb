{
 "cells": [
  {
   "cell_type": "markdown",
   "metadata": {},
   "source": [
    "ข้อ 1"
   ]
  },
  {
   "cell_type": "code",
   "execution_count": null,
   "metadata": {
    "vscode": {
     "languageId": "sql"
    }
   },
   "outputs": [],
   "source": [
    "SELECT dir_fname, dir_lname, gen_title\n",
    "FROM Movie\n",
    "JOIN movie_direction USING(mov_id)\n",
    "JOIN director USING(dir_id)\n",
    "NATURAL JOIN rating\n",
    "NATURAL JOIN movie_genres\n",
    "NATURAL JOIN genres\n",
    "GROUP BY dir_fname, dir_lname, gen_title\n",
    "HAVING MAX(rev_stars) = MAX(rev_stars);"
   ]
  },
  {
   "cell_type": "markdown",
   "metadata": {},
   "source": [
    "ข้อ 2"
   ]
  },
  {
   "cell_type": "code",
   "execution_count": null,
   "metadata": {
    "vscode": {
     "languageId": "sql"
    }
   },
   "outputs": [],
   "source": [
    "SELECT actor.act_fname, actor.act_lname,actor.act_gender,SUM(movie.mov_time) AS total_time\n",
    "FROM movie\n",
    "JOIN movie_cast USING(mov_id)\n",
    "JOIN actor USING(act_id)\n",
    "LEFT JOIN rating USING(mov_id)\n",
    "WHERE rating.rev_stars IS NOT NULL\n",
    "GROUP BY actor.act_fname, actor.act_lname,actor.act_gender;"
   ]
  },
  {
   "cell_type": "markdown",
   "metadata": {},
   "source": [
    "ข้อ 3"
   ]
  },
  {
   "cell_type": "code",
   "execution_count": null,
   "metadata": {
    "vscode": {
     "languageId": "sql"
    }
   },
   "outputs": [],
   "source": [
    "SELECT director.dir_fname,director.dir_lname,actor.act_fname,actor.act_lname,COUNT(*) AS collaboration_count\n",
    "FROM movie\n",
    "JOIN movie_cast ON movie.mov_id = movie_cast.mov_id\n",
    "JOIN actor ON movie_cast.act_id = actor.act_id\n",
    "JOIN movie_direction ON movie.mov_id = movie_direction.mov_id\n",
    "JOIN director ON movie_direction.dir_id = director.dir_id\n",
    "WHERE actor.act_gender = 'F'\n",
    "GROUP BY director.dir_id, actor.act_id\n",
    "ORDER BY collaboration_count DESC\n",
    "LIMIT 5;"
   ]
  },
  {
   "cell_type": "markdown",
   "metadata": {},
   "source": [
    "ข้อ 4"
   ]
  },
  {
   "cell_type": "code",
   "execution_count": null,
   "metadata": {
    "vscode": {
     "languageId": "sql"
    }
   },
   "outputs": [],
   "source": [
    "ALTER TABLE genres\n",
    "ADD COLUMN gen_id_temp INTEGER;\n",
    "\n",
    "-- อัปเดตคอลัมน์ชั่วคราวด้วยค่าตำแหน่งของ gen_title\n",
    "UPDATE genres\n",
    "SET gen_id_temp = ROW_NUMBER() OVER (ORDER BY gen_title); #แก้เรียงจากน้อยไปมาก\n",
    "\n",
    "-- ลบคอลัมน์ gen_id เดิม\n",
    "ALTER TABLE genres\n",
    "DROP COLUMN gen_id;\n",
    "\n",
    "-- แล้วเปลี่ยนชื่อคอลัมน์ชั่วคราวเป็น gen_id\n",
    "ALTER TABLE genres\n",
    "RENAME COLUMN gen_id_temp TO gen_id;"
   ]
  },
  {
   "cell_type": "markdown",
   "metadata": {},
   "source": [
    "ข้อ 5"
   ]
  },
  {
   "cell_type": "code",
   "execution_count": null,
   "metadata": {
    "vscode": {
     "languageId": "sql"
    }
   },
   "outputs": [],
   "source": [
    "UPDATE actor\n",
    "SET act_gender = 'F'\n",
    "WHERE \n",
    "  UPPER(act_fname) LIKE 'EM%'\n",
    "  OR UPPER(act_fname) LIKE 'CHAR%'\n",
    "  OR UPPER(act_lname) LIKE '%DY'\n",
    "  OR UPPER(act_lname) LIKE '%SY'\n",
    "  OR UPPER(act_lname) LIKE '%LIA';"
   ]
  }
 ],
 "metadata": {
  "kernelspec": {
   "display_name": "Python 3",
   "language": "python",
   "name": "python3"
  },
  "language_info": {
   "codemirror_mode": {
    "name": "ipython",
    "version": 3
   },
   "file_extension": ".py",
   "mimetype": "text/x-python",
   "name": "python",
   "nbconvert_exporter": "python",
   "pygments_lexer": "ipython3",
   "version": "3.10.11"
  }
 },
 "nbformat": 4,
 "nbformat_minor": 2
}
